{
 "cells": [
  {
   "cell_type": "markdown",
   "metadata": {},
   "source": [
    "# Problem Statement:-)\n",
    "\n",
    "\n",
    "Create a python program in which the user selects a particular range of number (example 20 to 80 or 330 to 430). The system   should automatically select some random number and the user  must identify that number selected by the system in minimum number of guesses. \n",
    "\n",
    "If the user identifies it in the required number of guesses then it  should print <b>\"Yeah! You identified the number\"</b>.\n",
    "\n",
    "Else if the number guessed by the user is higher than the randomly  selected number then it should print  <b>\"Please try again! The number you guessed is too high\"</b>.\n",
    "\n",
    "Else if he number guessed by the user is smaller than the randomly  selected number then it should print  <b>\"Please try again! The number you guessed is too small\"</b>.\n",
    "\n",
    "Else if the user does not guess the integer in minimum number of guesses, then it should  give <b>\"Oops! All you chances are finished. Better luck next time!\"</b>."
   ]
  },
  {
   "cell_type": "code",
   "execution_count": 1,
   "metadata": {},
   "outputs": [
    {
     "name": "stdout",
     "output_type": "stream",
     "text": [
      "Enter the lower range: 1\n",
      "Enter the Higher range: 50\n",
      "\n",
      " Number of chance you get to guess the number is:  6\n",
      "\n",
      " Enter your 1 number: 25\n",
      "\n",
      " Please try again! The number you guessed is too small\n",
      "\n",
      " Enter your 2 number: 38\n",
      "\n",
      " Please try again! The number you guessed is too high\n",
      "\n",
      " Enter your 3 number: 31\n",
      "\n",
      " Please try again! The number you guessed is too small\n",
      "\n",
      " Enter your 4 number: 35\n",
      "\n",
      " Yeah! You identified the number\n"
     ]
    }
   ],
   "source": [
    "import random as rn\n",
    "import math\n",
    "\n",
    "L_lim = int(input(\"Enter the lower range: \"))\n",
    "U_lim = int(input(\"Enter the Higher range: \"))\n",
    "\n",
    "key = rn.randint(L_lim,U_lim)\n",
    "\n",
    "print(\"\\n Number of chance you get to guess the number is: \",round(math.log(U_lim - L_lim + 1, 2)))\n",
    "\n",
    "counter = 0\n",
    " \n",
    "while counter < math.log(U_lim - L_lim + 1, 2):\n",
    "    counter += 1\n",
    "    \n",
    "    guess = int(input(\"\\n Enter your %d number: \" % counter))\n",
    "    \n",
    "    if key == guess:\n",
    "        print(\"\\n Yeah! You identified the number\")\n",
    "        break\n",
    "    elif key>guess:\n",
    "        print(\"\\n Please try again! The number you guessed is too small\")\n",
    "    elif key<guess:\n",
    "        print(\"\\n Please try again! The number you guessed is too high\")\n",
    "        \n",
    "if counter > math.log(U_lim - L_lim + 1, 2):\n",
    "    print(\"\\n Oops! All you chances are finished. Better luck next time!\")\n",
    "            "
   ]
  },
  {
   "cell_type": "code",
   "execution_count": null,
   "metadata": {},
   "outputs": [],
   "source": []
  }
 ],
 "metadata": {
  "kernelspec": {
   "display_name": "Python 3",
   "language": "python",
   "name": "python3"
  },
  "language_info": {
   "codemirror_mode": {
    "name": "ipython",
    "version": 3
   },
   "file_extension": ".py",
   "mimetype": "text/x-python",
   "name": "python",
   "nbconvert_exporter": "python",
   "pygments_lexer": "ipython3",
   "version": "3.8.2"
  }
 },
 "nbformat": 4,
 "nbformat_minor": 4
}
